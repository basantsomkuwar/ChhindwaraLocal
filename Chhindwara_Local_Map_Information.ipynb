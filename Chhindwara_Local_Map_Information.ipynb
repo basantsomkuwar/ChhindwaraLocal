{
  "nbformat": 4,
  "nbformat_minor": 0,
  "metadata": {
    "colab": {
      "provenance": [],
      "authorship_tag": "ABX9TyOLGQLSChVxV2HDefqDS0Rs",
      "include_colab_link": true
    },
    "kernelspec": {
      "name": "python3",
      "display_name": "Python 3"
    },
    "language_info": {
      "name": "python"
    }
  },
  "cells": [
    {
      "cell_type": "markdown",
      "metadata": {
        "id": "view-in-github",
        "colab_type": "text"
      },
      "source": [
        "<a href=\"https://colab.research.google.com/github/basantsomkuwar/ChhindwaraLocal/blob/main/Chhindwara_Local_Map_Information.ipynb\" target=\"_parent\"><img src=\"https://colab.research.google.com/assets/colab-badge.svg\" alt=\"Open In Colab\"/></a>"
      ]
    },
    {
      "cell_type": "code",
      "source": [
        "# Step 1: Install required libraries\n",
        "!pip install gspread google-auth folium\n",
        "\n",
        "# Step 2: Authenticate with Google\n",
        "from google.colab import auth\n",
        "auth.authenticate_user()\n",
        "\n",
        "import gspread\n",
        "import google.auth\n",
        "from google.auth import default\n",
        "\n",
        "# Step 3: Create client to access Google Sheets\n",
        "credentials, project = default()\n",
        "gc = gspread.authorize(credentials)\n",
        "\n",
        "# Step 4: Open your Google Sheet\n",
        "spreadsheet_url = \"https://docs.google.com/spreadsheets/d/16gtG6it82N2xkrp2gy-15zoakKn9R_W_cfoXl5KKppc/edit?usp=sharing\"\n",
        "sh = gc.open_by_url(spreadsheet_url)\n",
        "worksheet = sh.sheet1\n",
        "\n",
        "# Step 5: Get data and convert to DataFrame\n",
        "import pandas as pd\n",
        "data = worksheet.get_all_records()\n",
        "df = pd.DataFrame(data)\n",
        "\n",
        "print(\"Preview of your data:\")\n",
        "print(df.head())\n",
        "\n",
        "# Step 6: Create map with hyperlinked markers\n",
        "import folium\n",
        "\n",
        "if not df.empty:\n",
        "    # Create base map\n",
        "    first_lat = df.iloc[0]['Latitude']\n",
        "    first_lon = df.iloc[0]['Longitude']\n",
        "    my_map = folium.Map(location=[first_lat, first_lon], zoom_start=10)\n",
        "\n",
        "    # Add markers with hyperlinks\n",
        "    for index, row in df.iterrows():\n",
        "        # Customize these column names to match your sheet\n",
        "        LINK_COLUMN = 'URL'  # Change this to your actual column name with links\n",
        "        TITLE_COLUMN = 'Name'  # Change this to your title column\n",
        "\n",
        "        # Create popup content with hyperlink\n",
        "        popup_text = f\"<div style='min-width:250px;'>\"\n",
        "\n",
        "        for col in df.columns:\n",
        "            if col not in ['Latitude', 'Longitude']:\n",
        "                value = row[col]\n",
        "                # Make the link column clickable\n",
        "                if col == LINK_COLUMN:\n",
        "                    popup_text += (\n",
        "                        f\"<b>{col}:</b> \"\n",
        "                        f\"<a href='{value}' target='_blank' style='color:blue;text-decoration:underline;'>\"\n",
        "                        f\"Click here</a><br>\"\n",
        "                    )\n",
        "                elif col == TITLE_COLUMN:\n",
        "                    popup_text = f\"<h4 style='margin-bottom:5px;'>{value}</h4>\" + popup_text\n",
        "                else:\n",
        "                    popup_text += f\"<b>{col}:</b> {value}<br>\"\n",
        "\n",
        "        popup_text += \"</div>\"\n",
        "\n",
        "        folium.Marker(\n",
        "            location=[row['Latitude'], row['Longitude']],\n",
        "            popup=folium.Popup(popup_text, max_width=300),\n",
        "            icon=folium.Icon(color='green', icon='globe')\n",
        "        ).add_to(my_map)\n",
        "\n",
        "    print(\"\\nDisplaying map with hyperlinked markers:\")\n",
        "    display(my_map)\n",
        "else:\n",
        "    print(\"No data found in the spreadsheet!\")\n",
        "\n"
      ],
      "metadata": {
        "id": "9WY3p3t-w4YR"
      },
      "execution_count": null,
      "outputs": []
    },
    {
      "cell_type": "code",
      "source": [],
      "metadata": {
        "id": "eOlm3AOq3lZA"
      },
      "execution_count": null,
      "outputs": []
    }
  ]
}